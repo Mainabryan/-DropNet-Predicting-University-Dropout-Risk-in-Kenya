{
  "nbformat": 4,
  "nbformat_minor": 0,
  "metadata": {
    "colab": {
      "provenance": [],
      "authorship_tag": "ABX9TyNyjDXf4p9v9wCusw0IiDA2",
      "include_colab_link": true
    },
    "kernelspec": {
      "name": "python3",
      "display_name": "Python 3"
    },
    "language_info": {
      "name": "python"
    }
  },
  "cells": [
    {
      "cell_type": "markdown",
      "metadata": {
        "id": "view-in-github",
        "colab_type": "text"
      },
      "source": [
        "<a href=\"https://colab.research.google.com/github/Mainabryan/-DropNet-Predicting-University-Dropout-Risk-in-Kenya/blob/main/Swiss_clothing_brand.ipynb\" target=\"_parent\"><img src=\"https://colab.research.google.com/assets/colab-badge.svg\" alt=\"Open In Colab\"/></a>"
      ]
    },
    {
      "cell_type": "markdown",
      "source": [
        "##Load the dataet"
      ],
      "metadata": {
        "id": "cQUq3HkeWBqv"
      }
    },
    {
      "cell_type": "code",
      "source": [
        "import pandas as pd\n",
        "\n",
        "# Load the CSV files with corrected variable names\n",
        "customer_table = pd.read_csv('/content/customer_table-sheet1-sourcetable.csv')\n",
        "employee_table = pd.read_csv('/content/employee_table-sheet1-sourcetable.csv')\n",
        "product_table = pd.read_csv('/content/product_table-sheet1-sourcetable.csv')\n",
        "inventory_restock_table = pd.read_csv('/content/inventory_restock-sheet1-sourcetable.csv')\n",
        "sales_table = pd.read_csv('/content/sales_table-sheet1-sourcetable.csv')\n",
        "marketing_table = pd.read_csv('/content/marketing_table-sheet1-sourcetable.csv')\n",
        "\n",
        "# Verify loading by printing the first few rows of each table\n",
        "print(\"Customers Table:\")\n",
        "print(customer_table.head())\n",
        "print(\"\\nEmployees Table:\")\n",
        "print(employee_table.head())\n",
        "print(\"\\nProducts Table:\")\n",
        "print(product_table.head())\n",
        "print(\"\\nInventory Restock Table:\")\n",
        "print(inventory_restock_table.head())\n",
        "print(\"\\nSales Table:\")\n",
        "print(sales_table.head())\n",
        "print(\"\\nMarketing Table:\")\n",
        "print(marketing_table.head())"
      ],
      "metadata": {
        "colab": {
          "base_uri": "https://localhost:8080/"
        },
        "id": "MYXyBFPQbbKj",
        "outputId": "4c80fb33-f8b4-4e71-e891-d8f08034b9db"
      },
      "execution_count": 10,
      "outputs": [
        {
          "output_type": "stream",
          "name": "stdout",
          "text": [
            "Customers Table:\n",
            "   Customer_ID      Gender  Age               Town  Visit_Frequency_per_month  \\\n",
            "0            1        Male   19              Köniz                          5   \n",
            "1            2        Male   19  La Chaux-de-Fonds                          6   \n",
            "2            3        Male   45              Vevey                          3   \n",
            "3            4  Non-binary   40               Bern                          9   \n",
            "4            5      Female   54        Biel/Bienne                          5   \n",
            "\n",
            "  Loyalty_Status Email_Domain  \n",
            "0           Gold   bluewin.ch  \n",
            "1            NaN    gmail.com  \n",
            "2           Gold    yahoo.com  \n",
            "3            NaN  outlook.com  \n",
            "4           Gold    gmail.com  \n",
            "\n",
            "Employees Table:\n",
            "   Restock_ID  Product_ID      Supplier Restock_Date  Units_Ordered  \\\n",
            "0           1          32   BaselBasics   06/17/2025             73   \n",
            "1           2          25  LucerneLooms   01/20/2025             22   \n",
            "2           3           5   BaselBasics   03/09/2025             35   \n",
            "3           4          18    GenevaGarb   06/27/2025             76   \n",
            "4           5          17      EuroModa   01/21/2025             94   \n",
            "\n",
            "   Unit_Cost_CHF Total_Cost_CHF  Lead_Time_days  \n",
            "0          16.82       1,227.86              20  \n",
            "1          28.24         621.28               4  \n",
            "2          16.24         568.40              20  \n",
            "3          30.99       2,355.24              17  \n",
            "4          22.17       2,083.98               4  \n",
            "\n",
            "Products Table:\n",
            "   Product_ID Product_Name Category  Cost_Price_CHF  Selling_Price_CHF  \\\n",
            "0           1    T-shirt 1  T-shirt           24.98              61.69   \n",
            "1           2    T-shirt 2  T-shirt           48.03             109.27   \n",
            "2           3    T-shirt 3  T-shirt           39.28              95.82   \n",
            "3           4    T-shirt 4  T-shirt           33.95              81.30   \n",
            "4           5    T-shirt 5  T-shirt           16.24              34.07   \n",
            "\n",
            "         Supplier  Stock_Level_initial  \n",
            "0      GenevaGarb                  112  \n",
            "1  AlpineTextiles                  145  \n",
            "2   ZurichThreads                  101  \n",
            "3   ZurichThreads                  145  \n",
            "4     BaselBasics                  181  \n",
            "\n",
            "Inventory Restock Table:\n",
            "   Restock_ID  Product_ID      Supplier Restock_Date  Units_Ordered  \\\n",
            "0           1          32   BaselBasics   06/17/2025             73   \n",
            "1           2          25  LucerneLooms   01/20/2025             22   \n",
            "2           3           5   BaselBasics   03/09/2025             35   \n",
            "3           4          18    GenevaGarb   06/27/2025             76   \n",
            "4           5          17      EuroModa   01/21/2025             94   \n",
            "\n",
            "   Unit_Cost_CHF Total_Cost_CHF  Lead_Time_days  \n",
            "0          16.82       1,227.86              20  \n",
            "1          28.24         621.28               4  \n",
            "2          16.24         568.40              20  \n",
            "3          30.99       2,355.24              17  \n",
            "4          22.17       2,083.98               4  \n",
            "\n",
            "Sales Table:\n",
            "   Sale_ID        Date  Product_ID  Quantity  Unit_Price_CHF  Total_Price_CHF  \\\n",
            "0        1  06/01/2025           8         4           75.73           295.34   \n",
            "1        2  05/25/2025          10         3           69.95           182.19   \n",
            "2        3  03/30/2025          35         2           88.07           165.46   \n",
            "3        4  01/26/2025          32         1           35.71            31.58   \n",
            "4        5  04/27/2025          46         1           72.77            66.51   \n",
            "\n",
            "   Customer_ID Payment_Method  Employee_ID  Discount_CHF  Channel  \n",
            "0           35           Card            8          7.58   Online  \n",
            "1            8           Card           11         27.66  InStore  \n",
            "2           73           Card            7         10.68   Online  \n",
            "3           79           Card           15          4.13  InStore  \n",
            "4          109           Card            3          6.26  InStore  \n",
            "\n",
            "Marketing Table:\n",
            "   Campaign_ID   Channel  Start_Date    End_Date Budget_CHF  Conversions  \\\n",
            "0            1  Facebook  02/06/2025  02/13/2025  $4,775.28           83   \n",
            "1            2     Email  02/26/2025  03/07/2025  $4,777.73          195   \n",
            "2            3     Email  01/16/2025  01/30/2025  $3,080.47          154   \n",
            "3            4    Google  03/01/2025  03/29/2025  $3,343.27           16   \n",
            "4            5     Email  03/30/2025  04/24/2025  $2,518.00          183   \n",
            "\n",
            "  Revenue_Generated_CHF Discount_used_CHF  \n",
            "0            $21,876.80         $1,873.22  \n",
            "1            $11,124.46         $1,224.06  \n",
            "2            $14,407.14         $1,752.73  \n",
            "3            $11,940.86           $745.51  \n",
            "4             $6,863.47           $887.14  \n"
          ]
        }
      ]
    },
    {
      "cell_type": "markdown",
      "source": [
        "##import librabries"
      ],
      "metadata": {
        "id": "E_1i5MTQbim1"
      }
    },
    {
      "cell_type": "code",
      "source": [
        "# Core libraries for data manipulation and analysis\n",
        "import pandas as pd  # For loading and manipulating CSV data\n",
        "import numpy as np   # For numerical operations\n",
        "\n",
        "# Libraries for data visualization\n",
        "import matplotlib.pyplot as plt  # For plotting charts\n",
        "import seaborn as sns           # For enhanced visualizations\n",
        "\n",
        "# Libraries for machine learning (optional, depending on your project needs)\n",
        "from sklearn.model_selection import train_test_split  # For splitting data\n",
        "from sklearn.preprocessing import StandardScaler      # For scaling features\n",
        "from sklearn.linear_model import LinearRegression     # Example ML model\n",
        "from sklearn.metrics import mean_squared_error, r2_score  # For model evaluation\n",
        "\n",
        "# Optional: For statistical analysis\n",
        "import statsmodels.api as sm  # For detailed statistical modeling\n",
        "\n",
        "# Optional: For handling dates and times\n",
        "from datetime import datetime  # For parsing and manipulating dates"
      ],
      "metadata": {
        "id": "9VK95KVmboGg"
      },
      "execution_count": 11,
      "outputs": []
    },
    {
      "cell_type": "markdown",
      "source": [
        "##Data Cleaning and ixing the errors"
      ],
      "metadata": {
        "id": "fk-AFZRJcw8_"
      }
    },
    {
      "cell_type": "code",
      "source": [
        "# Check for missing values\n",
        "print(\"Missing Values in Each Table:\")\n",
        "print(\"Customers:\", customer_table.isnull().sum())\n",
        "print(\"Employees:\", employee_table.isnull().sum())\n",
        "print(\"Products:\", product_table.isnull().sum())\n",
        "print(\"Inventory Restock:\", inventory_restock_table.isnull().sum())\n",
        "print(\"Sales:\", sales_table.isnull().sum())\n",
        "print(\"Marketing:\", marketing_table.isnull().sum())"
      ],
      "metadata": {
        "colab": {
          "base_uri": "https://localhost:8080/"
        },
        "id": "pdTkMKqBc7G1",
        "outputId": "44ebdf32-574b-4609-f986-7e8f854b10ab"
      },
      "execution_count": 12,
      "outputs": [
        {
          "output_type": "stream",
          "name": "stdout",
          "text": [
            "Missing Values in Each Table:\n",
            "Customers: Customer_ID                   0\n",
            "Gender                        0\n",
            "Age                           0\n",
            "Town                          0\n",
            "Visit_Frequency_per_month     0\n",
            "Loyalty_Status               72\n",
            "Email_Domain                  0\n",
            "dtype: int64\n",
            "Employees: Restock_ID        0\n",
            "Product_ID        0\n",
            "Supplier          0\n",
            "Restock_Date      0\n",
            "Units_Ordered     0\n",
            "Unit_Cost_CHF     0\n",
            "Total_Cost_CHF    0\n",
            "Lead_Time_days    0\n",
            "dtype: int64\n",
            "Products: Product_ID             0\n",
            "Product_Name           0\n",
            "Category               0\n",
            "Cost_Price_CHF         0\n",
            "Selling_Price_CHF      0\n",
            "Supplier               0\n",
            "Stock_Level_initial    0\n",
            "dtype: int64\n",
            "Inventory Restock: Restock_ID        0\n",
            "Product_ID        0\n",
            "Supplier          0\n",
            "Restock_Date      0\n",
            "Units_Ordered     0\n",
            "Unit_Cost_CHF     0\n",
            "Total_Cost_CHF    0\n",
            "Lead_Time_days    0\n",
            "dtype: int64\n",
            "Sales: Sale_ID            0\n",
            "Date               0\n",
            "Product_ID         0\n",
            "Quantity           0\n",
            "Unit_Price_CHF     0\n",
            "Total_Price_CHF    0\n",
            "Customer_ID        0\n",
            "Payment_Method     0\n",
            "Employee_ID        0\n",
            "Discount_CHF       0\n",
            "Channel            0\n",
            "dtype: int64\n",
            "Marketing: Campaign_ID              0\n",
            "Channel                  0\n",
            "Start_Date               0\n",
            "End_Date                 0\n",
            "Budget_CHF               0\n",
            "Conversions              0\n",
            "Revenue_Generated_CHF    0\n",
            "Discount_used_CHF        0\n",
            "dtype: int64\n"
          ]
        }
      ]
    },
    {
      "cell_type": "markdown",
      "source": [
        "##EDA"
      ],
      "metadata": {
        "id": "d53uYx1udG6s"
      }
    },
    {
      "cell_type": "code",
      "source": [
        "# Convert date columns to datetime\n",
        "sales_table['Date'] = pd.to_datetime(sales_table['Date'])\n",
        "inventory_restock_table['Restock_Date'] = pd.to_datetime(inventory_restock_table['Restock_Date'])\n",
        "marketing_table['Start_Date'] = pd.to_datetime(marketing_table['Start_Date'])\n",
        "marketing_table['End_Date'] = pd.to_datetime(marketing_table['End_Date'])\n",
        "\n",
        "# Ensure ID columns are integers\n",
        "customer_table['Customer_ID'] = customer_table['Customer_ID'].astype(int)\n",
        "product_table['Product_ID'] = product_table['Product_ID'].astype(int)\n",
        "sales_table['Sale_ID'] = sales_table['Sale_ID'].astype(int)\n",
        "sales_table['Product_ID'] = sales_table['Product_ID'].astype(int)\n",
        "sales_table['Customer_ID'] = sales_table['Customer_ID'].astype(int)\n",
        "sales_table['Employee_ID'] = sales_table['Employee_ID'].astype(int)\n",
        "inventory_restock_table['Restock_ID'] = inventory_restock_table['Restock_ID'].astype(int)\n",
        "inventory_restock_table['Product_ID'] = inventory_restock_table['Product_ID'].astype(int)\n",
        "marketing_table['Campaign_ID'] = marketing_table['Campaign_ID'].astype(int)\n",
        "\n",
        "# Verify data types\n",
        "print(\"Sales Table Data Types:\")\n",
        "print(sales_table.dtypes)"
      ],
      "metadata": {
        "colab": {
          "base_uri": "https://localhost:8080/"
        },
        "id": "AaAd4CpcdLk-",
        "outputId": "703154df-2a42-4f5c-fdd4-037ea347846c"
      },
      "execution_count": 14,
      "outputs": [
        {
          "output_type": "stream",
          "name": "stdout",
          "text": [
            "Sales Table Data Types:\n",
            "Sale_ID                     int64\n",
            "Date               datetime64[ns]\n",
            "Product_ID                  int64\n",
            "Quantity                    int64\n",
            "Unit_Price_CHF            float64\n",
            "Total_Price_CHF           float64\n",
            "Customer_ID                 int64\n",
            "Payment_Method             object\n",
            "Employee_ID                 int64\n",
            "Discount_CHF              float64\n",
            "Channel                    object\n",
            "dtype: object\n"
          ]
        }
      ]
    },
    {
      "cell_type": "markdown",
      "source": [
        "##Informtation"
      ],
      "metadata": {
        "id": "-mhY7Z0-fr46"
      }
    },
    {
      "cell_type": "code",
      "source": [
        "# Check basic info\n",
        "print(\"Customers Table Info:\")\n",
        "print(customer_table.info())\n",
        "print(\"\\nEmployees Table Info:\")\n",
        "print(employee_table.info())\n",
        "print(\"\\nProducts Table Info:\")\n",
        "print(product_table.info())\n",
        "print(\"\\nInventory Restock Table Info:\")\n",
        "print(inventory_restock_table.info())\n",
        "print(\"\\nSales Table Info:\")\n",
        "print(sales_table.info())\n",
        "print(\"\\nMarketing Table Info:\")\n",
        "print(marketing_table.info())\n"
      ],
      "metadata": {
        "colab": {
          "base_uri": "https://localhost:8080/"
        },
        "id": "9jE8WZoCfzfw",
        "outputId": "488d59ad-16d6-4de2-fda1-e6a7cb0d52d3"
      },
      "execution_count": 15,
      "outputs": [
        {
          "output_type": "stream",
          "name": "stdout",
          "text": [
            "Customers Table Info:\n",
            "<class 'pandas.core.frame.DataFrame'>\n",
            "RangeIndex: 120 entries, 0 to 119\n",
            "Data columns (total 7 columns):\n",
            " #   Column                     Non-Null Count  Dtype \n",
            "---  ------                     --------------  ----- \n",
            " 0   Customer_ID                120 non-null    int64 \n",
            " 1   Gender                     120 non-null    object\n",
            " 2   Age                        120 non-null    int64 \n",
            " 3   Town                       120 non-null    object\n",
            " 4   Visit_Frequency_per_month  120 non-null    int64 \n",
            " 5   Loyalty_Status             48 non-null     object\n",
            " 6   Email_Domain               120 non-null    object\n",
            "dtypes: int64(3), object(4)\n",
            "memory usage: 6.7+ KB\n",
            "None\n",
            "\n",
            "Employees Table Info:\n",
            "<class 'pandas.core.frame.DataFrame'>\n",
            "RangeIndex: 99 entries, 0 to 98\n",
            "Data columns (total 8 columns):\n",
            " #   Column          Non-Null Count  Dtype  \n",
            "---  ------          --------------  -----  \n",
            " 0   Restock_ID      99 non-null     int64  \n",
            " 1   Product_ID      99 non-null     int64  \n",
            " 2   Supplier        99 non-null     object \n",
            " 3   Restock_Date    99 non-null     object \n",
            " 4   Units_Ordered   99 non-null     int64  \n",
            " 5   Unit_Cost_CHF   99 non-null     float64\n",
            " 6   Total_Cost_CHF  99 non-null     object \n",
            " 7   Lead_Time_days  99 non-null     int64  \n",
            "dtypes: float64(1), int64(4), object(3)\n",
            "memory usage: 6.3+ KB\n",
            "None\n",
            "\n",
            "Products Table Info:\n",
            "<class 'pandas.core.frame.DataFrame'>\n",
            "RangeIndex: 50 entries, 0 to 49\n",
            "Data columns (total 7 columns):\n",
            " #   Column               Non-Null Count  Dtype  \n",
            "---  ------               --------------  -----  \n",
            " 0   Product_ID           50 non-null     int64  \n",
            " 1   Product_Name         50 non-null     object \n",
            " 2   Category             50 non-null     object \n",
            " 3   Cost_Price_CHF       50 non-null     float64\n",
            " 4   Selling_Price_CHF    50 non-null     float64\n",
            " 5   Supplier             50 non-null     object \n",
            " 6   Stock_Level_initial  50 non-null     int64  \n",
            "dtypes: float64(2), int64(2), object(3)\n",
            "memory usage: 2.9+ KB\n",
            "None\n",
            "\n",
            "Inventory Restock Table Info:\n",
            "<class 'pandas.core.frame.DataFrame'>\n",
            "RangeIndex: 99 entries, 0 to 98\n",
            "Data columns (total 8 columns):\n",
            " #   Column          Non-Null Count  Dtype         \n",
            "---  ------          --------------  -----         \n",
            " 0   Restock_ID      99 non-null     int64         \n",
            " 1   Product_ID      99 non-null     int64         \n",
            " 2   Supplier        99 non-null     object        \n",
            " 3   Restock_Date    99 non-null     datetime64[ns]\n",
            " 4   Units_Ordered   99 non-null     int64         \n",
            " 5   Unit_Cost_CHF   99 non-null     float64       \n",
            " 6   Total_Cost_CHF  99 non-null     object        \n",
            " 7   Lead_Time_days  99 non-null     int64         \n",
            "dtypes: datetime64[ns](1), float64(1), int64(4), object(2)\n",
            "memory usage: 6.3+ KB\n",
            "None\n",
            "\n",
            "Sales Table Info:\n",
            "<class 'pandas.core.frame.DataFrame'>\n",
            "RangeIndex: 82 entries, 0 to 81\n",
            "Data columns (total 11 columns):\n",
            " #   Column           Non-Null Count  Dtype         \n",
            "---  ------           --------------  -----         \n",
            " 0   Sale_ID          82 non-null     int64         \n",
            " 1   Date             82 non-null     datetime64[ns]\n",
            " 2   Product_ID       82 non-null     int64         \n",
            " 3   Quantity         82 non-null     int64         \n",
            " 4   Unit_Price_CHF   82 non-null     float64       \n",
            " 5   Total_Price_CHF  82 non-null     float64       \n",
            " 6   Customer_ID      82 non-null     int64         \n",
            " 7   Payment_Method   82 non-null     object        \n",
            " 8   Employee_ID      82 non-null     int64         \n",
            " 9   Discount_CHF     82 non-null     float64       \n",
            " 10  Channel          82 non-null     object        \n",
            "dtypes: datetime64[ns](1), float64(3), int64(5), object(2)\n",
            "memory usage: 7.2+ KB\n",
            "None\n",
            "\n",
            "Marketing Table Info:\n",
            "<class 'pandas.core.frame.DataFrame'>\n",
            "RangeIndex: 10 entries, 0 to 9\n",
            "Data columns (total 8 columns):\n",
            " #   Column                 Non-Null Count  Dtype         \n",
            "---  ------                 --------------  -----         \n",
            " 0   Campaign_ID            10 non-null     int64         \n",
            " 1   Channel                10 non-null     object        \n",
            " 2   Start_Date             10 non-null     datetime64[ns]\n",
            " 3   End_Date               10 non-null     datetime64[ns]\n",
            " 4   Budget_CHF             10 non-null     object        \n",
            " 5   Conversions            10 non-null     int64         \n",
            " 6   Revenue_Generated_CHF  10 non-null     object        \n",
            " 7   Discount_used_CHF      10 non-null     object        \n",
            "dtypes: datetime64[ns](2), int64(2), object(4)\n",
            "memory usage: 772.0+ bytes\n",
            "None\n"
          ]
        }
      ]
    },
    {
      "cell_type": "markdown",
      "source": [
        "##INCREASE SALES"
      ],
      "metadata": {
        "id": "9_5ZWFMuhlXz"
      }
    },
    {
      "cell_type": "code",
      "source": [
        "#Top 10\n",
        "plt.figure(figsize=(10,5))\n",
        "sns.barplot(x=top_products.values, y=top_products.index, palette=\"viridis\")\n",
        "plt.title(\"Top 10 Best-Selling Products\", fontsize=14, weight='bold')\n",
        "plt.xlabel(\"Total Sales (CHF)\")\n",
        "plt.ylabel(\"Product ID\")\n",
        "plt.tight_layout()\n",
        "plt.show()\n"
      ],
      "metadata": {
        "colab": {
          "base_uri": "https://localhost:8080/",
          "height": 594
        },
        "id": "2vbizjzEhsGU",
        "outputId": "7de98718-6680-404f-b5c8-a3d7ab2cf71f"
      },
      "execution_count": 19,
      "outputs": [
        {
          "output_type": "stream",
          "name": "stderr",
          "text": [
            "/tmp/ipython-input-4188776048.py:3: FutureWarning: \n",
            "\n",
            "Passing `palette` without assigning `hue` is deprecated and will be removed in v0.14.0. Assign the `x` variable to `hue` and set `legend=False` for the same effect.\n",
            "\n",
            "  sns.barplot(x=top_products.values, y=top_products.index, palette=\"viridis\")\n"
          ]
        },
        {
          "output_type": "display_data",
          "data": {
            "text/plain": [
              "<Figure size 1000x500 with 1 Axes>"
            ],
            "image/png": "[encoded data removed]"
          },
          "metadata": {}
        }
      ]
    },
    {
      "cell_type": "code",
      "metadata": {
        "id": "a6f8b41d"
      },
      "source": [
        "# Calculate total sales per product\n",
        "top_products = sales_table.groupby('Product_ID')['Total_Price_CHF'].sum().sort_values(ascending=False).head(10)"
      ],
      "execution_count": 18,
      "outputs": []
    },
    {
      "cell_type": "code",
      "source": [
        "import pandas as pd\n",
        "\n",
        "# Load the Sales and Products tables (adjust file paths as needed)\n",
        "sales_table = pd.read_csv('/content/sales_table-sheet1-sourcetable.csv')\n",
        "product_table = pd.read_csv('/content/product_table-sheet1-sourcetable.csv')\n",
        "\n",
        "# Filter out returns (negative quantities) and group by Product_ID to sum quantities\n",
        "sales_positive = sales_table[sales_table['Quantity'] > 0]\n",
        "product_sales = sales_positive.groupby('Product_ID')['Quantity'].sum().reset_index()\n",
        "\n",
        "# Merge with Products table to get product details\n",
        "product_sales = product_sales.merge(product_table[['Product_ID', 'Product_Name', 'Category', 'Selling_Price_CHF']],\n",
        "                                  on='Product_ID', how='left')\n",
        "\n",
        "# Sort by total quantity sold in descending order and get top 10\n",
        "top_10_products = product_sales.sort_values(by='Quantity', ascending=False).head(10)\n",
        "\n",
        "# Add total revenue (Quantity * Selling_Price_CHF - Discount_CHF) for context\n",
        "top_10_products = top_10_products.merge(\n",
        "    sales_positive.groupby('Product_ID')[['Total_Price_CHF']].sum().reset_index(),\n",
        "    on='Product_ID', how='left'\n",
        ")\n",
        "\n",
        "# Rename columns for clarity\n",
        "top_10_products.columns = ['Product_ID', 'Total_Units_Sold', 'Product_Name', 'Category',\n",
        "                          'Selling_Price_CHF', 'Total_Revenue_CHF']\n",
        "\n",
        "# Display the result\n",
        "print(\"Top 10 Products Sold:\")\n",
        "print(top_10_products[['Product_ID', 'Product_Name', 'Category', 'Total_Units_Sold', 'Total_Revenue_CHF']])"
      ],
      "metadata": {
        "colab": {
          "base_uri": "https://localhost:8080/"
        },
        "id": "7gNhdCOwibV2",
        "outputId": "c7175b72-23c2-498c-c83c-e0a1eb5f6e4c"
      },
      "execution_count": 20,
      "outputs": [
        {
          "output_type": "stream",
          "name": "stdout",
          "text": [
            "Top 10 Products Sold:\n",
            "   Product_ID Product_Name Category  Total_Units_Sold  Total_Revenue_CHF\n",
            "0           5    T-shirt 5  T-shirt                11             354.85\n",
            "1          19     Jeans 19    Jeans                10             416.20\n",
            "2          42     Shoes 42    Shoes                10             613.52\n",
            "3          36    Jacket 36   Jacket                 9             619.99\n",
            "4          12    Hoodie 12   Hoodie                 9             737.11\n",
            "5          31     Dress 31    Dress                 9             679.61\n",
            "6          46     Shoes 46    Shoes                 9             623.72\n",
            "7          39    Jacket 39   Jacket                 9             724.49\n",
            "8          26     Dress 26    Dress                 8             695.73\n",
            "9          21     Jeans 21    Jeans                 8             559.66\n"
          ]
        }
      ]
    },
    {
      "cell_type": "code",
      "source": [
        "import pandas as pd\n",
        "\n",
        "# Load the Sales and Products tables (adjust file paths as needed)\n",
        "sales_table = pd.read_csv('/content/sales_table-sheet1-sourcetable.csv')\n",
        "product_table = pd.read_csv('/content/product_table-sheet1-sourcetable.csv')\n",
        "\n",
        "# Filter out returns (negative quantities) and group by Product_ID to sum quantities\n",
        "sales_positive = sales_table[sales_table['Quantity'] > 0]\n",
        "product_sales = sales_positive.groupby('Product_ID')['Quantity'].sum().reset_index()\n",
        "\n",
        "# Merge with Products table to get product details\n",
        "product_sales = product_sales.merge(product_table[['Product_ID', 'Product_Name', 'Category']],\n",
        "                                  on='Product_ID', how='left')\n",
        "\n",
        "# Sort by total quantity sold and get top 10\n",
        "top_10_products = product_sales.sort_values(by='Quantity', ascending=False).head(10)\n",
        "\n",
        "# Rename columns for clarity\n",
        "top_10_products.columns = ['Product_ID', 'Total_Units_Sold', 'Product_Name', 'Category']\n",
        "\n",
        "# Print the data for reference\n",
        "print(\"Top 10 Products Sold:\")\n",
        "print(top_10_products[['Product_ID', 'Product_Name', 'Category', 'Total_Units_Sold']])"
      ],
      "metadata": {
        "colab": {
          "base_uri": "https://localhost:8080/"
        },
        "id": "44SslWK1ipTN",
        "outputId": "3462ec64-3b09-452b-e7e7-c55b4f8615b9"
      },
      "execution_count": 21,
      "outputs": [
        {
          "output_type": "stream",
          "name": "stdout",
          "text": [
            "Top 10 Products Sold:\n",
            "    Product_ID Product_Name Category  Total_Units_Sold\n",
            "4            5    T-shirt 5  T-shirt                11\n",
            "13          19     Jeans 19    Jeans                10\n",
            "33          42     Shoes 42    Shoes                10\n",
            "27          36    Jacket 36   Jacket                 9\n",
            "10          12    Hoodie 12   Hoodie                 9\n",
            "23          31     Dress 31    Dress                 9\n",
            "36          46     Shoes 46    Shoes                 9\n",
            "30          39    Jacket 39   Jacket                 9\n",
            "20          26     Dress 26    Dress                 8\n",
            "15          21     Jeans 21    Jeans                 8\n"
          ]
        }
      ]
    },
    {
      "cell_type": "code",
      "source": [
        "import pandas as pd\n",
        "\n",
        "# Load the Sales and Products tables (adjust file paths as needed)\n",
        "sales_table = pd.read_csv('/content/sales_table-sheet1-sourcetable.csv')\n",
        "product_table = pd.read_csv('/content/product_table-sheet1-sourcetable.csv')\n",
        "\n",
        "# Filter out returns (negative quantities) and group by Product_ID to sum quantities\n",
        "sales_positive = sales_table[sales_table['Quantity'] > 0]\n",
        "product_sales = sales_positive.groupby('Product_ID')['Quantity'].sum().reset_index()\n",
        "\n",
        "# Merge with Products table to get product details\n",
        "product_sales = product_sales.merge(product_table[['Product_ID', 'Product_Name', 'Category', 'Selling_Price_CHF']],\n",
        "                                  on='Product_ID', how='left')\n",
        "\n",
        "# Sort by total quantity sold in descending order and get top 10\n",
        "top_10_products = product_sales.sort_values(by='Quantity', ascending=False).head(10)\n",
        "\n",
        "# Add total revenue (Quantity * Selling_Price_CHF - Discount_CHF) for context\n",
        "top_10_products = top_10_products.merge(\n",
        "    sales_positive.groupby('Product_ID')[['Total_Price_CHF']].sum().reset_index(),\n",
        "    on='Product_ID', how='left'\n",
        ")\n",
        "\n",
        "# Rename columns for clarity\n",
        "top_10_products.columns = ['Product_ID', 'Total_Units_Sold', 'Product_Name', 'Category',\n",
        "                          'Selling_Price_CHF', 'Total_Revenue_CHF']\n",
        "\n",
        "# Display the result\n",
        "print(\"Top 10 Products Sold:\")\n",
        "print(top_10_products[['Product_ID', 'Product_Name', 'Category', 'Total_Units_Sold', 'Total_Revenue_CHF']])"
      ],
      "metadata": {
        "colab": {
          "base_uri": "https://localhost:8080/"
        },
        "id": "N2wuipCki3a8",
        "outputId": "bf4ff611-afde-4957-c8a2-5481337758b2"
      },
      "execution_count": 22,
      "outputs": [
        {
          "output_type": "stream",
          "name": "stdout",
          "text": [
            "Top 10 Products Sold:\n",
            "   Product_ID Product_Name Category  Total_Units_Sold  Total_Revenue_CHF\n",
            "0           5    T-shirt 5  T-shirt                11             354.85\n",
            "1          19     Jeans 19    Jeans                10             416.20\n",
            "2          42     Shoes 42    Shoes                10             613.52\n",
            "3          36    Jacket 36   Jacket                 9             619.99\n",
            "4          12    Hoodie 12   Hoodie                 9             737.11\n",
            "5          31     Dress 31    Dress                 9             679.61\n",
            "6          46     Shoes 46    Shoes                 9             623.72\n",
            "7          39    Jacket 39   Jacket                 9             724.49\n",
            "8          26     Dress 26    Dress                 8             695.73\n",
            "9          21     Jeans 21    Jeans                 8             559.66\n"
          ]
        }
      ]
    },
    {
      "cell_type": "code",
      "source": [
        "import pandas as pd\n",
        "\n",
        "# Load the Sales and Products tables (adjust file paths as needed)\n",
        "sales_table = pd.read_csv('/content/sales_table-sheet1-sourcetable.csv')\n",
        "product_table = pd.read_csv('/content/product_table-sheet1-sourcetable.csv')\n",
        "\n",
        "# Filter out returns (negative quantities) and group by Product_ID to sum quantities\n",
        "sales_positive = sales_table[sales_table['Quantity'] > 0]\n",
        "product_sales = sales_positive.groupby('Product_ID')['Quantity'].sum().reset_index()\n",
        "\n",
        "# Merge with Products table to get product details\n",
        "product_sales = product_sales.merge(product_table[['Product_ID', 'Product_Name', 'Category', 'Selling_Price_CHF']],\n",
        "                                  on='Product_ID', how='left')\n",
        "\n",
        "# Sort by total quantity sold in descending order and get top 10\n",
        "top_10_products = product_sales.sort_values(by='Quantity', ascending=False).head(10)\n",
        "\n",
        "# Add total revenue (Quantity * Selling_Price_CHF - Discount_CHF) for context\n",
        "top_10_products = top_10_products.merge(\n",
        "    sales_positive.groupby('Product_ID')[['Total_Price_CHF']].sum().reset_index(),\n",
        "    on='Product_ID', how='left'\n",
        ")\n",
        "\n",
        "# Rename columns for clarity\n",
        "top_10_products.columns = ['Product_ID', 'Total_Units_Sold', 'Product_Name', 'Category',\n",
        "                          'Selling_Price_CHF', 'Total_Revenue_CHF']\n",
        "\n",
        "# Display the result\n",
        "print(\"Top 10 Products Sold:\")\n",
        "print(top_10_products[['Product_ID', 'Product_Name', 'Category', 'Total_Units_Sold', 'Total_Revenue_CHF']])"
      ],
      "metadata": {
        "colab": {
          "base_uri": "https://localhost:8080/"
        },
        "id": "HtGO6BTzjfBu",
        "outputId": "64aee5ca-94ab-4e8a-a1d1-4b0bbddfd012"
      },
      "execution_count": 23,
      "outputs": [
        {
          "output_type": "stream",
          "name": "stdout",
          "text": [
            "Top 10 Products Sold:\n",
            "   Product_ID Product_Name Category  Total_Units_Sold  Total_Revenue_CHF\n",
            "0           5    T-shirt 5  T-shirt                11             354.85\n",
            "1          19     Jeans 19    Jeans                10             416.20\n",
            "2          42     Shoes 42    Shoes                10             613.52\n",
            "3          36    Jacket 36   Jacket                 9             619.99\n",
            "4          12    Hoodie 12   Hoodie                 9             737.11\n",
            "5          31     Dress 31    Dress                 9             679.61\n",
            "6          46     Shoes 46    Shoes                 9             623.72\n",
            "7          39    Jacket 39   Jacket                 9             724.49\n",
            "8          26     Dress 26    Dress                 8             695.73\n",
            "9          21     Jeans 21    Jeans                 8             559.66\n"
          ]
        }
      ]
    },
    {
      "cell_type": "code",
      "source": [
        "import pandas as pd\n",
        "import matplotlib.pyplot as plt\n",
        "import seaborn as sns\n",
        "\n",
        "# Load the Sales and Products tables\n",
        "sales_table = pd.read_csv('/content/sales_table-sheet1-sourcetable.csv')\n",
        "product_table = pd.read_csv('/content/product_table-sheet1-sourcetable.csv')\n",
        "\n",
        "# Filter out returns (negative quantities)\n",
        "sales_positive = sales_table[sales_table['Quantity'] > 0]\n",
        "\n",
        "# Group by Product_ID and sum total quantity sold\n",
        "product_sales = sales_positive.groupby('Product_ID')['Quantity'].sum().reset_index()\n",
        "\n",
        "# Merge with product details\n",
        "product_sales = product_sales.merge(\n",
        "    product_table[['Product_ID', 'Product_Name', 'Category', 'Selling_Price_CHF']],\n",
        "    on='Product_ID', how='left'\n",
        ")\n",
        "\n",
        "# Sort by total quantity sold and get top 10\n",
        "top_10_products = product_sales.sort_values(by='Quantity', ascending=False).head(10)\n",
        "\n",
        "# Add total revenue for context\n",
        "top_10_products = top_10_products.merge(\n",
        "    sales_positive.groupby('Product_ID')[['Total_Price_CHF']].sum().reset_index(),\n",
        "    on='Product_ID', how='left'\n",
        ")\n",
        "\n",
        "# Rename columns for clarity\n",
        "top_10_products.columns = [\n",
        "    'Product_ID', 'Total_Units_Sold', 'Product_Name', 'Category',\n",
        "    'Selling_Price_CHF', 'Total_Revenue_CHF'\n",
        "]\n",
        "\n",
        "# Display results\n",
        "print(\"Top 10 Products Sold:\")\n",
        "print(top_10_products)\n",
        "\n",
        "# =========================\n",
        "# 📊 Visualization Section\n",
        "# =========================\n",
        "\n",
        "# Set Seaborn style\n",
        "sns.set(style=\"whitegrid\", palette=\"viridis\")\n",
        "\n",
        "# Create bar chart\n",
        "plt.figure(figsize=(10,6))\n",
        "sns.barplot(\n",
        "    data=top_10_products,\n",
        "    x='Total_Revenue_CHF',\n",
        "    y='Product_Name',\n",
        "    hue='Category',\n",
        "    dodge=False\n",
        ")\n",
        "\n",
        "# Chart aesthetics\n",
        "plt.title(\"Top 10 Best-Selling Products by Revenue (CHF)\", fontsize=15, weight='bold')\n",
        "plt.xlabel(\"Total Revenue (CHF)\", fontsize=12)\n",
        "plt.ylabel(\"Product Name\", fontsize=12)\n",
        "plt.legend(title=\"Category\")\n",
        "plt.tight_layout()\n",
        "\n",
        "# Show chart\n",
        "plt.show()\n"
      ],
      "metadata": {
        "colab": {
          "base_uri": "https://localhost:8080/",
          "height": 1000
        },
        "id": "q94gk7_cjvqa",
        "outputId": "a591029c-d539-4f53-f5af-c2fd0d6b5bf6"
      },
      "execution_count": 24,
      "outputs": [
        {
          "output_type": "stream",
          "name": "stdout",
          "text": [
            "Top 10 Products Sold:\n",
            "   Product_ID  Total_Units_Sold Product_Name Category  Selling_Price_CHF  \\\n",
            "0           5                11    T-shirt 5  T-shirt              34.07   \n",
            "1          19                10     Jeans 19    Jeans              42.95   \n",
            "2          42                10     Shoes 42    Shoes              65.98   \n",
            "3          36                 9    Jacket 36   Jacket              77.28   \n",
            "4          12                 9    Hoodie 12   Hoodie              86.44   \n",
            "5          31                 9     Dress 31    Dress              81.05   \n",
            "6          46                 9     Shoes 46    Shoes              72.77   \n",
            "7          39                 9    Jacket 39   Jacket              89.21   \n",
            "8          26                 8     Dress 26    Dress              92.30   \n",
            "9          21                 8     Jeans 21    Jeans              78.32   \n",
            "\n",
            "   Total_Revenue_CHF  \n",
            "0             354.85  \n",
            "1             416.20  \n",
            "2             613.52  \n",
            "3             619.99  \n",
            "4             737.11  \n",
            "5             679.61  \n",
            "6             623.72  \n",
            "7             724.49  \n",
            "8             695.73  \n",
            "9             559.66  \n"
          ]
        },
        {
          "output_type": "display_data",
          "data": {
            "text/plain": [
              "<Figure size 1000x600 with 1 Axes>"
            ],
            "image/png": "[encoded data removed]"
          },
          "metadata": {}
        }
      ]
    },
    {
      "cell_type": "code",
      "source": [
        "\n"
      ],
      "metadata": {
        "id": "m8HuJenHh-ao"
      },
      "execution_count": null,
      "outputs": []
    }
  ]
}